{
 "cells": [
  {
   "cell_type": "markdown",
   "metadata": {},
   "source": [
    "1.1 Write a Python Program(with class concepts) to find the area of the triangle using the below\n",
    "formula.\n",
    "area = (s*(s-a)*(s-b)*(s-c)) ** 0.5\n",
    "Function to take the length of the sides of triangle from user should be defined in the parent\n",
    "class and function to calculate the area should be defined in subclass."
   ]
  },
  {
   "cell_type": "code",
   "execution_count": 99,
   "metadata": {},
   "outputs": [
    {
     "name": "stdout",
     "output_type": "stream",
     "text": [
      "Created Triangle with sides (3, 4, 5)\n",
      "area for Triangle with sides (3, 4, 5): 6.0\n"
     ]
    }
   ],
   "source": [
    "import numpy as np \n",
    "class Triangle:\n",
    "    def __init__(self, side1, side2, side3):\n",
    "        self.side1 = side1\n",
    "        self.side2 = side2\n",
    "        self.side3 = side3\n",
    "    \n",
    "    def __str__(self):\n",
    "        return f\"Created {self.__class__.__name__} with sides {self.side1, self.side2, self.side3}\"\n",
    "      \n",
    "\n",
    "class Calculate(Triangle):\n",
    "    def __init__(self, parameter, *args, **kwargs):\n",
    "        super(Calculate, self).__init__(*args, **kwargs)\n",
    "        self.parameter = parameter\n",
    "    \n",
    "    def perimeter(self):\n",
    "        s = self.side1 + self.side2 + self.side3\n",
    "        return s\n",
    "    \n",
    "    def area(self):\n",
    "        s = self.perimeter()*0.5\n",
    "        return np.sqrt(s*(s-self.side1)*(s-self.side2)*(s-self.side3))\n",
    "           \n",
    "        \n",
    "    def __str__(self):\n",
    "        text = f\"{self.parameter} for {self.__class__.__bases__[0].__name__} with sides {self.side1, self.side2, self.side3}: \"\n",
    "        text+= f\"{self.area() if self.parameter == 'area' else self.perimeter()}\"\n",
    "        return text\n",
    "        \n",
    "tr = Triangle(3, 4, 5)\n",
    "print(tr)\n",
    "calc = Calculate('area', tr.side1, tr.side2, tr.side3)\n",
    "print(calc)\n"
   ]
  },
  {
   "cell_type": "markdown",
   "metadata": {},
   "source": [
    "1.2 Write a function filter_long_words() that takes a list of words and an integer n and returns\n",
    "the list of words that are longer than n."
   ]
  },
  {
   "cell_type": "code",
   "execution_count": 2,
   "metadata": {},
   "outputs": [
    {
     "data": {
      "text/plain": [
       "['toothbrush', 'toothpaste', 'personification']"
      ]
     },
     "execution_count": 2,
     "metadata": {},
     "output_type": "execute_result"
    }
   ],
   "source": [
    "def filter_long_words(lst, n):\n",
    "    return list(filter(lambda x: len(x) > n, lst))\n",
    "\n",
    "filter_long_words([\"toothbrush\", \"toothpaste\", \"hi\", \"two\", \"four\", \"personification\"], 5)"
   ]
  },
  {
   "cell_type": "markdown",
   "metadata": {},
   "source": [
    "2.1 Write a Python program using function concept that maps list of words into a list of integers\n",
    "representing the lengths of the corresponding words.\n",
    "Hint: If a list [ ab,cde,erty] is passed on to the python function output should come as [2,3,4]\n",
    "Here 2,3 and 4 are the lengths of the words in the list."
   ]
  },
  {
   "cell_type": "code",
   "execution_count": 3,
   "metadata": {},
   "outputs": [
    {
     "data": {
      "text/plain": [
       "[2, 3, 4, 5, 4, 8, 9]"
      ]
     },
     "execution_count": 3,
     "metadata": {},
     "output_type": "execute_result"
    }
   ],
   "source": [
    "def find_length_of_strings_in_list(lst):\n",
    "    return list(map(lambda x: len(x), lst))\n",
    "\n",
    "find_length_of_strings_in_list([ 'ab','cde','erty', 'entry', 'exit', 'quidnunc', 'ambitious'])"
   ]
  },
  {
   "cell_type": "markdown",
   "metadata": {},
   "source": [
    "2.2 Write a Python function which takes a character (i.e. a string of length 1) and returns True if\n",
    "it is a vowel, False otherwise."
   ]
  },
  {
   "cell_type": "code",
   "execution_count": 8,
   "metadata": {},
   "outputs": [
    {
     "name": "stdout",
     "output_type": "stream",
     "text": [
      "True\n",
      "False\n",
      "False\n",
      "True\n"
     ]
    }
   ],
   "source": [
    "def isVowel(c):\n",
    "    if c in ['a', 'e', 'i', 'o', 'u']:\n",
    "        return True\n",
    "    else: \n",
    "        return False\n",
    "    \n",
    "print(isVowel('a'))\n",
    "print(isVowel('b'))\n",
    "print(isVowel('c'))\n",
    "print(isVowel('i'))"
   ]
  },
  {
   "cell_type": "code",
   "execution_count": null,
   "metadata": {
    "collapsed": true
   },
   "outputs": [],
   "source": []
  }
 ],
 "metadata": {
  "kernelspec": {
   "display_name": "Python 3",
   "language": "python",
   "name": "python3"
  },
  "language_info": {
   "codemirror_mode": {
    "name": "ipython",
    "version": 3
   },
   "file_extension": ".py",
   "mimetype": "text/x-python",
   "name": "python",
   "nbconvert_exporter": "python",
   "pygments_lexer": "ipython3",
   "version": "3.6.1"
  }
 },
 "nbformat": 4,
 "nbformat_minor": 2
}
