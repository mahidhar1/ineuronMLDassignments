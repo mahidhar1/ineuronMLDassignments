{
 "cells": [
  {
   "cell_type": "markdown",
   "metadata": {},
   "source": [
    "1.1 Write a Python Program to implement your own myreduce() function which works exactly\n",
    "like Python's built-in function reduce()"
   ]
  },
  {
   "cell_type": "code",
   "execution_count": 7,
   "metadata": {},
   "outputs": [
    {
     "name": "stdout",
     "output_type": "stream",
     "text": [
      "47\n",
      "47\n",
      "57\n",
      "57\n",
      "15\n",
      "15\n",
      "120\n",
      "120\n"
     ]
    }
   ],
   "source": [
    "from functools import reduce\n",
    "max_find = lambda a,b: a if (a > b) else b\n",
    "adder = lambda a, b: a + b\n",
    "factorial = lambda a, b: a*b\n",
    "\n",
    "def my_reduce(f, l):\n",
    "    ans = l[0]\n",
    "    for i in range(1, len(l)):\n",
    "        ans = f(ans, l[i])\n",
    "    return ans\n",
    "\n",
    "lst =[47,11,42,13] \n",
    "print(reduce(max_find, lst))\n",
    "print(my_reduce(max_find, lst))\n",
    "print(reduce(max_find, [1, 11, 57, 33, 22, 6]))\n",
    "print(my_reduce(max_find, [1, 11, 57, 33, 22, 6]))\n",
    "lst = [1, 2, 3, 4, 5]\n",
    "print(reduce(adder, lst))\n",
    "print(my_reduce(adder, lst))\n",
    "num = 5\n",
    "print(reduce(factorial, range(1, num+1)))\n",
    "print(my_reduce(factorial, range(1, num+1)))"
   ]
  },
  {
   "cell_type": "markdown",
   "metadata": {},
   "source": [
    "."
   ]
  },
  {
   "cell_type": "markdown",
   "metadata": {},
   "source": [
    "1.2 Write a Python program to implement your own myfilter() function which works exactly\n",
    "like Python's built-in function filter()"
   ]
  },
  {
   "cell_type": "code",
   "execution_count": 10,
   "metadata": {},
   "outputs": [
    {
     "name": "stdout",
     "output_type": "stream",
     "text": [
      "[2, 4, 6, 8]\n",
      "[2, 4, 6, 8]\n",
      "['i', 'e', 'u', 'o']\n",
      "['i', 'e', 'u', 'o']\n"
     ]
    }
   ],
   "source": [
    "def even_check(num):\n",
    "    if num%2 ==0:\n",
    "        return True\n",
    "\n",
    "def isVowel(c):\n",
    "    if c in ['a', 'e', 'i', 'o', 'u']:\n",
    "        return True\n",
    "    else: \n",
    "        return False\n",
    "\n",
    "\n",
    "def my_filter(f, l):\n",
    "    ans = []\n",
    "    for i in range(len(l)):\n",
    "        if f(l[i]): \n",
    "            ans.append(l[i])\n",
    "    return ans\n",
    "\n",
    "lst =[1,2,3,4,5,6,7,8]\n",
    "print(list(filter(even_check,lst)))\n",
    "print(list(my_filter(even_check,lst)))\n",
    "lst = list('ineuron')\n",
    "print(list(filter(isVowel,lst)))\n",
    "print(list(my_filter(isVowel,lst)))"
   ]
  },
  {
   "cell_type": "markdown",
   "metadata": {},
   "source": [
    "2. Implement List comprehensions to produce the following lists.\n",
    "Write List comprehensions to produce the following Lists\n",
    "['A', 'C', 'A', 'D', 'G', 'I', ’L’, ‘ D’]\n",
    "['x', 'xx', 'xxx', 'xxxx', 'y', 'yy', 'yyy', 'yyyy', 'z', 'zz', 'zzz', 'zzzz']\n",
    "['x', 'y', 'z', 'xx', 'yy', 'zz', 'xxx', 'yyy', 'zzz', 'xxxx', 'yyyy', 'zzzz']\n",
    "[[2], [3], [4], [3], [4], [5], [4], [5], [6]] [[2, 3, 4, 5], [3, 4, 5, 6],\n",
    "[4, 5, 6, 7], [5, 6, 7, 8]]\n",
    "[(1, 1), (2, 1), (3, 1), (1, 2), (2, 2), (3, 2), (1, 3), (2, 3), (3, 3)]"
   ]
  },
  {
   "cell_type": "code",
   "execution_count": 18,
   "metadata": {},
   "outputs": [
    {
     "data": {
      "text/plain": [
       "['x', 'xx', 'xxx', 'xxxx', 'y', 'yy', 'yyy', 'yyyy', 'z', 'zz', 'zzz', 'zzzz']"
      ]
     },
     "execution_count": 18,
     "metadata": {},
     "output_type": "execute_result"
    }
   ],
   "source": [
    "l1 = [e*i for e in ['x', 'y', 'z'] for i in range(1, 5)]\n",
    "l1"
   ]
  },
  {
   "cell_type": "code",
   "execution_count": 35,
   "metadata": {},
   "outputs": [],
   "source": [
    "#list(map(lambda e: tuple(map(lambda x: e*x, [1, 2, 3, 4])), ('x', 'y', 'z')))"
   ]
  },
  {
   "cell_type": "code",
   "execution_count": 19,
   "metadata": {},
   "outputs": [
    {
     "data": {
      "text/plain": [
       "['x', 'y', 'z', 'xx', 'yy', 'zz', 'xxx', 'yyy', 'zzz', 'xxxx', 'yyyy', 'zzzz']"
      ]
     },
     "execution_count": 19,
     "metadata": {},
     "output_type": "execute_result"
    }
   ],
   "source": [
    "l2 = [e*i for i in range(1, 5) for e in ['x', 'y', 'z']]\n",
    "l2"
   ]
  },
  {
   "cell_type": "code",
   "execution_count": 24,
   "metadata": {},
   "outputs": [
    {
     "data": {
      "text/plain": [
       "[[2], [3], [4], [2], [3], [4], [5], [2], [3], [4], [5], [6]]"
      ]
     },
     "execution_count": 24,
     "metadata": {},
     "output_type": "execute_result"
    }
   ],
   "source": [
    "l3 = [[i+1] for e in [4, 5, 6] for i in range(1, e)]\n",
    "l3"
   ]
  },
  {
   "cell_type": "code",
   "execution_count": 20,
   "metadata": {},
   "outputs": [
    {
     "data": {
      "text/plain": [
       "[(1, 1), (1, 2), (1, 3), (2, 1), (2, 2), (2, 3), (3, 1), (3, 2), (3, 3)]"
      ]
     },
     "execution_count": 20,
     "metadata": {},
     "output_type": "execute_result"
    }
   ],
   "source": [
    "l4 = [(i, j) for i in [1, 2, 3] for j in [1, 2, 3]]\n",
    "l4"
   ]
  },
  {
   "cell_type": "code",
   "execution_count": null,
   "metadata": {
    "collapsed": true
   },
   "outputs": [],
   "source": []
  }
 ],
 "metadata": {
  "kernelspec": {
   "display_name": "Python 3",
   "language": "python",
   "name": "python3"
  },
  "language_info": {
   "codemirror_mode": {
    "name": "ipython",
    "version": 3
   },
   "file_extension": ".py",
   "mimetype": "text/x-python",
   "name": "python",
   "nbconvert_exporter": "python",
   "pygments_lexer": "ipython3",
   "version": "3.6.1"
  }
 },
 "nbformat": 4,
 "nbformat_minor": 2
}
