{
 "cells": [
  {
   "cell_type": "code",
   "execution_count": 5,
   "metadata": {
    "collapsed": true
   },
   "outputs": [],
   "source": [
    "import numpy as np"
   ]
  },
  {
   "cell_type": "markdown",
   "metadata": {},
   "source": [
    "# Write a function so that the columns of the output matrix are powers of the input vector.\n",
    "# The order of the powers is determined by the increasing boolean argument. Specifically, when increasing is False, the i-th output column is the input vector raised element-wise to the power of N - i - 1.\n",
    "\n",
    "## HINT: Such a matrix with a geometric progression in each row is named for Alexandre-Theophile Vandermonde."
   ]
  },
  {
   "cell_type": "code",
   "execution_count": 39,
   "metadata": {},
   "outputs": [],
   "source": [
    "def vander(arr, increasing=False):\n",
    "    N = len(x)\n",
    "    if increasing == True: \n",
    "        return np.column_stack([x**i for i in range(N)])\n",
    "    else: \n",
    "        return np.column_stack([x**(N-i-1) for i in range(N)])\n"
   ]
  },
  {
   "cell_type": "code",
   "execution_count": 40,
   "metadata": {},
   "outputs": [
    {
     "name": "stdout",
     "output_type": "stream",
     "text": [
      "[[  1   1   1   1]\n",
      " [  8   4   2   1]\n",
      " [ 27   9   3   1]\n",
      " [125  25   5   1]]\n",
      "[[  1   1   1   1]\n",
      " [  8   4   2   1]\n",
      " [ 27   9   3   1]\n",
      " [125  25   5   1]]\n",
      "[[ True  True  True  True]\n",
      " [ True  True  True  True]\n",
      " [ True  True  True  True]\n",
      " [ True  True  True  True]]\n"
     ]
    }
   ],
   "source": [
    "x = np.array([1, 2, 3, 5])\n",
    "my_result = vander(x)\n",
    "library_result = np.vander(x)\n",
    "print(my_result) \n",
    "print(library_result)\n",
    "print(np.equal(my_result, library_result))"
   ]
  },
  {
   "cell_type": "code",
   "execution_count": 42,
   "metadata": {},
   "outputs": [
    {
     "name": "stdout",
     "output_type": "stream",
     "text": [
      "[[  1   1   1   1]\n",
      " [  1   2   4   8]\n",
      " [  1   3   9  27]\n",
      " [  1   5  25 125]]\n",
      "[[  1   1   1   1]\n",
      " [  1   2   4   8]\n",
      " [  1   3   9  27]\n",
      " [  1   5  25 125]]\n",
      "[[ True  True  True  True]\n",
      " [ True  True  True  True]\n",
      " [ True  True  True  True]\n",
      " [ True  True  True  True]]\n"
     ]
    }
   ],
   "source": [
    "x = np.array([1, 2, 3, 5])\n",
    "my_result = vander(x, increasing=True)\n",
    "library_result = np.vander(x, increasing=True)\n",
    "print(my_result) \n",
    "print(library_result)\n",
    "print(np.equal(my_result, library_result))"
   ]
  },
  {
   "cell_type": "markdown",
   "metadata": {},
   "source": [
    "## Given a sequence of n values x1, x2, ..., xn and a window size k>0, the k-th moving average of the given sequence is defined as follows: The moving average sequence has n-k+1 elements as shown below. The moving averages with k=4 of a ten-value sequence (n=10) is shown below\n",
    "i 1 2 3 4 5 6 7 8 9 10  \n",
    "===== == == == == == == == == == ==  \n",
    "Input 10 20 30 40 50 60 70 80 90 100  \n",
    "y1 25 = (10+20+30+40)/4  \n",
    "y2 35 = (20+30+40+50)/4  \n",
    "y3 45 = (30+40+50+60)/4  \n",
    "y4 55 = (40+50+60+70)/4  \n",
    "y5 65 = (50+60+70+80)/4  \n",
    "y6 75 = (60+70+80+90)/4  \n",
    "y7 85 = (70+80+90+100)/4  \n",
    "Thus, the moving average sequence has n-k+1=10-4+1=7 values."
   ]
  },
  {
   "cell_type": "code",
   "execution_count": 3,
   "metadata": {
    "collapsed": true
   },
   "outputs": [],
   "source": [
    "def simple_moving_average(vector, window_size = 2):\n",
    "    result = np.cumsum(vector, dtype=float)\n",
    "    result[window_size:] = result[window_size:] - result[:-window_size]\n",
    "    return result[window_size - 1:] / window_size \n",
    "        "
   ]
  },
  {
   "cell_type": "code",
   "execution_count": 4,
   "metadata": {},
   "outputs": [
    {
     "name": "stdout",
     "output_type": "stream",
     "text": [
      "[   5.            4.66666667    5.66666667    6.66666667    9.66666667\n",
      "   28.66666667   49.33333333   72.66666667   84.           93.33333333\n",
      "  116.33333333]\n"
     ]
    }
   ],
   "source": [
    "arr = [3, 5, 7, 2, 8, 10, 11, 65, 72, 81, 99, 100, 150]\n",
    "window = 3\n",
    "print(simple_moving_average(arr, 3))"
   ]
  },
  {
   "cell_type": "code",
   "execution_count": null,
   "metadata": {
    "collapsed": true
   },
   "outputs": [],
   "source": []
  }
 ],
 "metadata": {
  "kernelspec": {
   "display_name": "Python 3",
   "language": "python",
   "name": "python3"
  },
  "language_info": {
   "codemirror_mode": {
    "name": "ipython",
    "version": 3
   },
   "file_extension": ".py",
   "mimetype": "text/x-python",
   "name": "python",
   "nbconvert_exporter": "python",
   "pygments_lexer": "ipython3",
   "version": "3.6.1"
  }
 },
 "nbformat": 4,
 "nbformat_minor": 2
}
